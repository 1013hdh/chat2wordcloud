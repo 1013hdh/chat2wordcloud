{
 "cells": [
  {
   "cell_type": "markdown",
   "metadata": {},
   "source": [
    "# 提取文本"
   ]
  },
  {
   "cell_type": "markdown",
   "metadata": {},
   "source": [
    "参考\n",
    "- https://mp.weixin.qq.com/s/6JOdvO9y2RnZievyvD__ZA\n",
    "- https://mp.weixin.qq.com/s/2ZEYUdMpT5aOLivzZHK0OA \n",
    "\n",
    "- https://mp.weixin.qq.com/s/q_jGovApFIll6VASaatuWw \n",
    "- https://mp.weixin.qq.com/s/_XViV-koFTOH-x1Ba1xWWg "
   ]
  },
  {
   "cell_type": "code",
   "execution_count": 1,
   "metadata": {},
   "outputs": [
    {
     "name": "stdout",
     "output_type": "stream",
     "text": [
      "C:\\Users\\1013h\\Anaconda3\\code\\微信聊天记录生成词云图\n"
     ]
    }
   ],
   "source": [
    "import os \n",
    "# 修改当前工作目录\n",
    "path = \"C:/Users/1013h/Anaconda3/code/微信聊天记录生成词云图\"\n",
    "# 查看修改后的工作目录\n",
    "os.chdir(path)\n",
    "print(os.getcwd())"
   ]
  },
  {
   "cell_type": "code",
   "execution_count": 2,
   "metadata": {},
   "outputs": [
    {
     "name": "stderr",
     "output_type": "stream",
     "text": [
      "C:\\Users\\1013h\\Anaconda3\\lib\\site-packages\\IPython\\core\\interactiveshell.py:3057: DtypeWarning: Columns (15) have mixed types. Specify dtype option on import or set low_memory=False.\n",
      "  interactivity=interactivity, compiler=compiler, result=result)\n"
     ]
    }
   ],
   "source": [
    "#!/usr/bin/python\n",
    "import pandas\n",
    "import csv, sqlite3\n",
    "conn= sqlite3.connect('chat_log.db')\n",
    "# 新建数据库为 chat_log.db 替换成自己的聊天记录\n",
    "df = pandas.read_csv('./chat_logs.csv', sep=\",\",encoding = \"utf-8\")\n",
    "# 读取上一步提取出来的csv文件，这里要改成你自己的文件名\n",
    "df.to_sql('my_chat', conn, if_exists='append', index=False)\n"
   ]
  },
  {
   "cell_type": "markdown",
   "metadata": {},
   "source": [
    "[聊天记录数据解析规则参考](https://blog.csdn.net/qq_21687123/article/details/104229675?spm=1001.2101.3001.6650.3&utm_medium=distribute.pc_relevant.none-task-blog-2%7Edefault%7EBlogCommendFromBaidu%7ERate-3.pc_relevant_default&depth_1-utm_source=distribute.pc_relevant.none-task-blog-2%7Edefault%7EBlogCommendFromBaidu%7ERate-3.pc_relevant_default&utm_relevant_index=5)"
   ]
  },
  {
   "cell_type": "code",
   "execution_count": 3,
   "metadata": {},
   "outputs": [],
   "source": [
    "# 存入my_chat表中\n",
    "conn = sqlite3.connect('chat_log.db') \n",
    "# 连接数据库\n",
    "cursor = conn.cursor()\n",
    "# 获得游标\n",
    "cursor.execute('select content from my_chat where length(content)<30') \n",
    "# 将content长度限定30以下，因为content中有时候会有微信发过来的东西  \n",
    "value=cursor.fetchall()\n",
    "# fetchall返回筛选结果\n",
    " \n",
    "data=open(\"聊天记录.txt\",'w+',encoding='utf-8') \n",
    "for i in value:\n",
    "    data.write(i[0]+'\\n')\n",
    "# 将筛选结果写入 聊天记录.txt\n",
    " \n",
    "data.close()\n",
    "cursor.close()\n",
    "conn.close()\n",
    "# 关闭连接"
   ]
  },
  {
   "cell_type": "markdown",
   "metadata": {},
   "source": [
    "# 分词"
   ]
  },
  {
   "cell_type": "code",
   "execution_count": 4,
   "metadata": {},
   "outputs": [
    {
     "name": "stderr",
     "output_type": "stream",
     "text": [
      "Building prefix dict from the default dictionary ...\n",
      "Loading model from cache C:\\Users\\1013h\\AppData\\Local\\Temp\\jieba.cache\n",
      "Loading model cost 1.093 seconds.\n",
      "Prefix dict has been built successfully.\n",
      "C:\\Users\\1013h\\Anaconda3\\lib\\site-packages\\ipykernel_launcher.py:43: FutureWarning: using a dict on a Series for aggregation\n",
      "is deprecated and will be removed in a future version\n"
     ]
    }
   ],
   "source": [
    "#coding:utf-8\n",
    "import jieba    #分词包\n",
    "import numpy    #numpy计算包\n",
    "import codecs   #codecs语言代码处理包\n",
    "import pandas   #数据分析包\n",
    "\n",
    "def load_file_segment():\n",
    "    # 读取文本文件并分词\n",
    "    f = codecs.open(u\"聊天记录.txt\",'r',encoding='utf-8')\n",
    "    # 打开文件\n",
    "    content = f.read()\n",
    "    # 读取文件到content中\n",
    "    f.close()\n",
    "    # 关闭文件\n",
    "    segment=[]\n",
    "    # 保存分词结果\n",
    "    segs=jieba.cut(content) \n",
    "    # 对整体进行分词\n",
    "    for seg in segs:\n",
    "        if len(seg) > 1 and seg != '\\r\\n':\n",
    "            # 如果说分词得到的结果非单字，且不是换行符，则加入到数组中\n",
    "            segment.append(seg)\n",
    "    return segment\n",
    "\n",
    "segment = load_file_segment()\n",
    "# 获得分词结果\n",
    "\n",
    "df = pandas.DataFrame({'segment':segment})\n",
    "# 将分词数组转化为pandas数据结构\n",
    "\n",
    "stopwords=pandas.read_csv(\"./stopwords.txt\",index_col=False,quoting=3,sep=\"\\t\",names=['stopword'],encoding=\"utf-8\")\n",
    "# 加载停用词\n",
    "\n",
    "df=df[~df.segment.isin(stopwords.stopword)]\n",
    "# 如果不是在停用词中\n",
    "\n",
    "words_stat=df.groupby(by=['segment'])['segment'].agg({\"计数\":numpy.size})\n",
    "\n",
    "\n",
    "words_stat=words_stat.reset_index().sort_values(by=\"计数\",ascending=False)\n"
   ]
  },
  {
   "cell_type": "code",
   "execution_count": 5,
   "metadata": {
    "scrolled": true
   },
   "outputs": [
    {
     "data": {
      "text/html": [
       "<div>\n",
       "<style scoped>\n",
       "    .dataframe tbody tr th:only-of-type {\n",
       "        vertical-align: middle;\n",
       "    }\n",
       "\n",
       "    .dataframe tbody tr th {\n",
       "        vertical-align: top;\n",
       "    }\n",
       "\n",
       "    .dataframe thead th {\n",
       "        text-align: right;\n",
       "    }\n",
       "</style>\n",
       "<table border=\"1\" class=\"dataframe\">\n",
       "  <thead>\n",
       "    <tr style=\"text-align: right;\">\n",
       "      <th></th>\n",
       "      <th>segment</th>\n",
       "      <th>计数</th>\n",
       "    </tr>\n",
       "  </thead>\n",
       "  <tbody>\n",
       "    <tr>\n",
       "      <th>18209</th>\n",
       "      <td>拥抱</td>\n",
       "      <td>4410</td>\n",
       "    </tr>\n",
       "    <tr>\n",
       "      <th>12266</th>\n",
       "      <td>嘻嘻</td>\n",
       "      <td>3488</td>\n",
       "    </tr>\n",
       "  </tbody>\n",
       "</table>\n",
       "</div>"
      ],
      "text/plain": [
       "      segment    计数\n",
       "18209      拥抱  4410\n",
       "12266      嘻嘻  3488"
      ]
     },
     "execution_count": 5,
     "metadata": {},
     "output_type": "execute_result"
    }
   ],
   "source": [
    "# 生成词频示例\n",
    "words_stat.head(2)"
   ]
  },
  {
   "cell_type": "markdown",
   "metadata": {},
   "source": [
    "# 词云图"
   ]
  },
  {
   "cell_type": "code",
   "execution_count": 8,
   "metadata": {},
   "outputs": [
    {
     "data": {
      "image/png": "[encoded data removed]",
      "text/plain": [
       "<Figure size 432x288 with 1 Axes>"
      ]
     },
     "metadata": {
      "needs_background": "light"
     },
     "output_type": "display_data"
    }
   ],
   "source": [
    "import matplotlib.pyplot as plt\n",
    "from imageio import imread\n",
    "import matplotlib.pyplot as plt\n",
    "from wordcloud import WordCloud,ImageColorGenerator\n",
    "from wordcloud import WordCloud#词云包\n",
    "\n",
    "bimg = imread('./heart.jpg')\n",
    "wordcloud=WordCloud(background_color=\"white\",mask=bimg,font_path='./simhei.ttf')\n",
    "#wordcloud=wordcloud.fit_words(words_stat.head(4000).itertuples(index=False))\n",
    "words = words_stat.set_index(\"segment\").to_dict()\n",
    "wordcloud=wordcloud.fit_words(words[\"计数\"])\n",
    "bimgColors=ImageColorGenerator(bimg)\n",
    "plt.axis(\"off\")\n",
    "plt.imshow(wordcloud.recolor(color_func=bimgColors))\n",
    "plt.show()"
   ]
  }
 ],
 "metadata": {
  "kernelspec": {
   "display_name": "Python 3",
   "language": "python",
   "name": "python3"
  },
  "language_info": {
   "codemirror_mode": {
    "name": "ipython",
    "version": 3
   },
   "file_extension": ".py",
   "mimetype": "text/x-python",
   "name": "python",
   "nbconvert_exporter": "python",
   "pygments_lexer": "ipython3",
   "version": "3.7.3"
  },
  "toc": {
   "base_numbering": 1,
   "nav_menu": {},
   "number_sections": true,
   "sideBar": true,
   "skip_h1_title": false,
   "title_cell": "Table of Contents",
   "title_sidebar": "Contents",
   "toc_cell": false,
   "toc_position": {},
   "toc_section_display": true,
   "toc_window_display": false
  }
 },
 "nbformat": 4,
 "nbformat_minor": 2
}
